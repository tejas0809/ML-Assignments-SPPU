{
 "cells": [
  {
   "cell_type": "code",
   "execution_count": 10,
   "metadata": {},
   "outputs": [
    {
     "data": {
      "image/png": "[encoded data removed]",
      "text/plain": [
       "<matplotlib.figure.Figure at 0x1f87d924978>"
      ]
     },
     "metadata": {},
     "output_type": "display_data"
    }
   ],
   "source": [
    "import matplotlib.pyplot as plt\n",
    "data=[[0.1,0.15,0.08,0.16,0.2,0.25,0.24,0.3],[0.6,0.71,0.9,0.85,0.3,0.5,0.1,0.2]]\n",
    "centroid1=(0.1,0.6)\n",
    "centroid2=(0.3,0.2)\n",
    "\n",
    "while True:\n",
    "    cluster1=[[] for i in range(0,2)]\n",
    "    cluster2=[[] for i in range(0,2)]\n",
    "    dist1=[]\n",
    "    dist2=[]\n",
    "    for i in range(len(data[0])):\n",
    "        dist1=(centroid1[0]-data[0][i])**2+(centroid1[1]-data[1][i])**2\n",
    "        dist2=(centroid2[0]-data[0][i])**2+(centroid2[1]-data[1][i])**2\n",
    "        if(dist1<dist2):\n",
    "            cluster1[0].append(data[0][i])\n",
    "            cluster1[1].append(data[1][i])\n",
    "        else:\n",
    "            cluster2[0].append(data[0][i])\n",
    "            cluster2[1].append(data[1][i])\n",
    "            \n",
    "    new_cent1_x=sum(cluster1[0])/len(cluster1[0])\n",
    "    new_cent1_y=sum(cluster1[1])/len(cluster1[1])\n",
    "    \n",
    "    new_cent2_x=sum(cluster2[0])/len(cluster2[0])\n",
    "    new_cent2_y=sum(cluster2[1])/len(cluster2[1])\n",
    "    \n",
    "    new_cent1=(new_cent1_x,new_cent1_y)\n",
    "    new_cent2=(new_cent2_x,new_cent2_y)\n",
    "    \n",
    "    if(new_cent1==centroid1 and new_cent2==centroid2):\n",
    "        break\n",
    "    else:\n",
    "        centroid1=new_cent1\n",
    "        centroid2=new_cent2\n",
    "    \n",
    "plt.plot(centroid1[0],centroid1[1],'go')\n",
    "plt.plot(centroid2[0],centroid2[1],'r^')\n",
    "plt.plot(cluster1[0],cluster1[1],'ro',cluster2[0],cluster2[1],'gs')\n",
    "plt.grid()\n",
    "plt.show()\n",
    "       "
   ]
  },
  {
   "cell_type": "code",
   "execution_count": null,
   "metadata": {},
   "outputs": [],
   "source": []
  }
 ],
 "metadata": {
  "kernelspec": {
   "display_name": "Python 3",
   "language": "python",
   "name": "python3"
  },
  "language_info": {
   "codemirror_mode": {
    "name": "ipython",
    "version": 3
   },
   "file_extension": ".py",
   "mimetype": "text/x-python",
   "name": "python",
   "nbconvert_exporter": "python",
   "pygments_lexer": "ipython3",
   "version": "3.6.4"
  }
 },
 "nbformat": 4,
 "nbformat_minor": 2
}
