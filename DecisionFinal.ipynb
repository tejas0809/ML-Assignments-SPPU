{
  "nbformat": 4,
  "nbformat_minor": 0,
  "metadata": {
    "colab": {
      "name": "DecisionFinal.ipynb",
      "version": "0.3.2",
      "provenance": [],
      "collapsed_sections": []
    },
    "kernelspec": {
      "name": "python3",
      "display_name": "Python 3"
    }
  },
  "cells": [
    {
      "metadata": {
        "id": "3ThHJydjoZg6",
        "colab_type": "code",
        "colab": {
          "base_uri": "https://localhost:8080/",
          "height": 272
        },
        "outputId": "f67407f4-2293-4161-b78a-1ac38cbaa5fe"
      },
      "cell_type": "code",
      "source": [
        "import pandas as pd\n",
        "import math\n",
        "import pprint\n",
        "import pydot\n",
        "\n",
        "df=pd.read_csv('Dataset.csv')\n",
        "df=df.iloc[:,1:]\n",
        "print(df)\n",
        "target=df.keys()[-1]"
      ],
      "execution_count": 31,
      "outputs": [
        {
          "output_type": "stream",
          "text": [
            "      Age  Income  Gender Marital Status Buys\n",
            "0     <21    High    Male         Single   No\n",
            "1     <21    High    Male        Married   No\n",
            "2   21-35    High    Male         Single  Yes\n",
            "3     >35  Medium    Male         Single  Yes\n",
            "4     >35     Low  Female         Single  Yes\n",
            "5     >35     Low  Female        Married   No\n",
            "6   21-35     Low  Female        Married  Yes\n",
            "7     <21  Medium    Male         Single   No\n",
            "8     <21     Low  Female        Married  Yes\n",
            "9     >35  Medium  Female         Single  Yes\n",
            "10    <21  Medium  Female        Married  Yes\n",
            "11  21-35  Medium    Male        Married  Yes\n",
            "12  21-35    High  Female         Single  Yes\n",
            "13    >35  Medium    Male        Married   No\n"
          ],
          "name": "stdout"
        }
      ]
    },
    {
      "metadata": {
        "id": "X-xmwHC_ovzB",
        "colab_type": "code",
        "colab": {
          "base_uri": "https://localhost:8080/",
          "height": 34
        },
        "outputId": "171f8d69-19d2-4bae-fbbc-26cffcdbbfad"
      },
      "cell_type": "code",
      "source": [
        "def find_entropy(df):\n",
        "  entropy=0.0\n",
        "  den=df[target].count()\n",
        "  for tval in df[target].unique():\n",
        "    num=df[df[target]==tval][target].count()\n",
        "    fraction=num/den\n",
        "    entropy+=-fraction*math.log(fraction,2)\n",
        "  return entropy\n",
        "\n",
        "find_entropy(df)"
      ],
      "execution_count": 23,
      "outputs": [
        {
          "output_type": "execute_result",
          "data": {
            "text/plain": [
              "0.9402859586706309"
            ]
          },
          "metadata": {
            "tags": []
          },
          "execution_count": 23
        }
      ]
    },
    {
      "metadata": {
        "id": "BLmknB2a3x2q",
        "colab_type": "code",
        "colab": {
          "base_uri": "https://localhost:8080/",
          "height": 34
        },
        "outputId": "56b45b11-fee3-4252-8fe3-1836af481586"
      },
      "cell_type": "code",
      "source": [
        "def find_att_entropy(df,attribute):\n",
        "  entropy=0.0\n",
        "  den=df[attribute].count()\n",
        "  #print(den)\n",
        "  for aval in df[attribute].unique():\n",
        "    #print(aval)\n",
        "    tempdf=df[df[attribute]==aval]\n",
        "   # print(tempdf)\n",
        "    ent=find_entropy(tempdf)\n",
        "    num=tempdf[target].count()\n",
        "    #print(num)\n",
        "    entropy+=num/den*ent\n",
        "  return entropy\n",
        "    \n",
        "print(find_att_entropy(df,'Age'))"
      ],
      "execution_count": 24,
      "outputs": [
        {
          "output_type": "stream",
          "text": [
            "0.6935361388961918\n"
          ],
          "name": "stdout"
        }
      ]
    },
    {
      "metadata": {
        "id": "C_fc4cti4vQy",
        "colab_type": "code",
        "colab": {
          "base_uri": "https://localhost:8080/",
          "height": 34
        },
        "outputId": "d3d03f73-fc15-453b-fe21-ddb09b8227fa"
      },
      "cell_type": "code",
      "source": [
        "def find_win_att(df):\n",
        "  IG=[]\n",
        "  atts=df.keys()[:-1]\n",
        "  for att in atts:\n",
        "    IG.append((find_entropy(df)-find_att_entropy(df,att),att))\n",
        "  IG.sort(reverse=True)\n",
        "  return IG[0][1]\n",
        "    \n",
        "    \n",
        "find_win_att(df)   "
      ],
      "execution_count": 29,
      "outputs": [
        {
          "output_type": "execute_result",
          "data": {
            "text/plain": [
              "'Age'"
            ]
          },
          "metadata": {
            "tags": []
          },
          "execution_count": 29
        }
      ]
    },
    {
      "metadata": {
        "id": "-Gi6uyM56oSW",
        "colab_type": "code",
        "colab": {
          "base_uri": "https://localhost:8080/",
          "height": 54
        },
        "outputId": "b116971e-193a-4f6b-9504-5099ae45ee08"
      },
      "cell_type": "code",
      "source": [
        "def subtable(df,attribute,value):\n",
        "  return df[df[attribute]==value]\n",
        "\n",
        "def buildtree(df):\n",
        "  tree={}\n",
        "  tree[find_win_att(df)]={}\n",
        "  \n",
        "  for aval in df[find_win_att(df)].unique():\n",
        "    temdf=subtable(df,find_win_att(df),aval)\n",
        "    if len(temdf[target].unique())!=1:\n",
        "      tree[find_win_att(df)][aval]=buildtree(temdf)\n",
        "    else:\n",
        "      tree[find_win_att(df)][aval]=temdf[target].unique()\n",
        "  return tree\n",
        "\n",
        "print(buildtree(df))\n",
        "    "
      ],
      "execution_count": 35,
      "outputs": [
        {
          "output_type": "stream",
          "text": [
            "{'Age': {'<21': {'Gender': {'Male': array(['No'], dtype=object), 'Female': array(['Yes'], dtype=object)}}, '21-35': array(['Yes'], dtype=object), '>35': {'Marital Status': {'Single': array(['Yes'], dtype=object), 'Married': array(['No'], dtype=object)}}}}\n"
          ],
          "name": "stdout"
        }
      ]
    },
    {
      "metadata": {
        "id": "5rXXESBi8OeC",
        "colab_type": "code",
        "colab": {
          "base_uri": "https://localhost:8080/",
          "height": 34
        },
        "outputId": "319f1142-219a-4486-f400-63cc65bb715d"
      },
      "cell_type": "code",
      "source": [
        "def predict(data,tree):\n",
        "  for key in tree.keys():\n",
        "    for aval in tree[key]:\n",
        "      if data[key]==aval:\n",
        "        if isinstance(tree[key][aval],dict):\n",
        "          return predict(data,tree[key][aval])\n",
        "        else:\n",
        "          return tree[key][aval]\n",
        "        \n",
        "data1={'Age':'<21','Gender':'Male','Marital Status':'Single'}\n",
        "print(predict(data1,buildtree(df)))"
      ],
      "execution_count": 38,
      "outputs": [
        {
          "output_type": "stream",
          "text": [
            "['No']\n"
          ],
          "name": "stdout"
        }
      ]
    },
    {
      "metadata": {
        "id": "nf6yfeKL90hT",
        "colab_type": "code",
        "colab": {}
      },
      "cell_type": "code",
      "source": [
        "def draw(parentname,childname):\n",
        "  edge=pydot.Edge(parentname,childname)\n",
        "  graph.add_edge(edge)\n",
        "  \n",
        "def visit(node,parent=None):\n",
        "  for k,v in node.items():\n",
        "    if isinstance(v,dict):\n",
        "      if parent:\n",
        "        draw(parent,k)\n",
        "      visit(v,k)\n",
        "    else:\n",
        "      draw(parent,k)\n",
        "      draw(k,k+'_'+v[0])\n",
        "      \n",
        "graph=pydot.Dot(graph_type='graph')\n",
        "visit(buildtree(df))\n",
        "graph.write_png('test.png')\n",
        "\n",
        "  "
      ],
      "execution_count": 0,
      "outputs": []
    },
    {
      "metadata": {
        "id": "-Q3cm8qK_wbn",
        "colab_type": "code",
        "colab": {}
      },
      "cell_type": "code",
      "source": [
        ""
      ],
      "execution_count": 0,
      "outputs": []
    }
  ]
}