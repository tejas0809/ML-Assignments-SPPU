{
 "cells": [
  {
   "cell_type": "code",
   "execution_count": 12,
   "metadata": {},
   "outputs": [
    {
     "data": {
      "image/png": "[encoded data removed]",
      "text/plain": [
       "<matplotlib.figure.Figure at 0x25e41dcc588>"
      ]
     },
     "metadata": {},
     "output_type": "display_data"
    }
   ],
   "source": [
    "import matplotlib.pyplot as plt\n",
    "data=[[2,4,4,6,4,6],[4,2,6,4,4,2],['y','y','y','y','b','b']]\n",
    "(x,y)=(6,6)\n",
    "k=3\n",
    "nbrs=[]\n",
    "for index in range(0,len(data[0])):\n",
    "    dist=((x-(data[0][index]))**2)+((y-(data[1][index]))**2)\n",
    "    nbrs.append((dist,index))\n",
    "    \n",
    "nbrs.sort()\n",
    "yel=0\n",
    "blu=0\n",
    "\n",
    "for i in range(3):\n",
    "    if(data[2][nbrs[i][1]])=='y':\n",
    "        yel=yel+1\n",
    "    else:\n",
    "        blu=blu+1\n",
    "data[0].append(6)\n",
    "data[1].append(6)\n",
    "if(yel>blu):\n",
    "    data[2].append('y')\n",
    "else:\n",
    "    data[2].append('b')\n",
    "    \n",
    "plt.scatter(data[0],data[1],color=data[2],marker='o')\n",
    "plt.grid()\n",
    "plt.show()"
   ]
  },
  {
   "cell_type": "code",
   "execution_count": null,
   "metadata": {},
   "outputs": [],
   "source": []
  },
  {
   "cell_type": "code",
   "execution_count": null,
   "metadata": {},
   "outputs": [],
   "source": []
  }
 ],
 "metadata": {
  "kernelspec": {
   "display_name": "Python 3",
   "language": "python",
   "name": "python3"
  },
  "language_info": {
   "codemirror_mode": {
    "name": "ipython",
    "version": 3
   },
   "file_extension": ".py",
   "mimetype": "text/x-python",
   "name": "python",
   "nbconvert_exporter": "python",
   "pygments_lexer": "ipython3",
   "version": "3.6.4"
  }
 },
 "nbformat": 4,
 "nbformat_minor": 2
}
